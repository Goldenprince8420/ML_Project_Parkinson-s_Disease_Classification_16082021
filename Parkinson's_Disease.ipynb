{
 "cells": [
  {
   "cell_type": "markdown",
   "id": "f3760b8a-a043-4083-91d8-5612fd6b625d",
   "metadata": {},
   "source": [
    "<h1><b>Parkinson's Disease Classification<b></h1>"
   ]
  },
  {
   "cell_type": "code",
   "execution_count": null,
   "id": "453e2f64-b8ed-4f43-9826-f168fd7c9918",
   "metadata": {},
   "outputs": [],
   "source": []
  },
  {
   "cell_type": "markdown",
   "id": "af58f15d-95eb-4d76-9665-de98c9af206b",
   "metadata": {},
   "source": [
    "<h2><b><span style = \"color:Red\"> Importing Important Libraries"
   ]
  },
  {
   "cell_type": "code",
   "execution_count": 4,
   "id": "590abe36-fe1f-4389-adad-c89f1a147399",
   "metadata": {},
   "outputs": [],
   "source": [
    "import numpy as np\n",
    "import pandas as pd"
   ]
  },
  {
   "cell_type": "markdown",
   "id": "524f195f-dc37-46ad-a570-52d63e43309e",
   "metadata": {},
   "source": [
    "<h3><b><span style = \"color:Yellow\">Dataset Reading and Exploration"
   ]
  },
  {
   "cell_type": "code",
   "execution_count": 6,
   "id": "08e8b350-0b62-4eba-b196-205cc6057548",
   "metadata": {},
   "outputs": [],
   "source": [
    "df1 = pd.read_csv(\"Datasets/pd_speech_features.csv\")"
   ]
  },
  {
   "cell_type": "code",
   "execution_count": 7,
   "id": "6a4ea71f-2b3f-47e4-8661-7885e9f07681",
   "metadata": {},
   "outputs": [
    {
     "data": {
      "text/html": [
       "<div>\n",
       "<style scoped>\n",
       "    .dataframe tbody tr th:only-of-type {\n",
       "        vertical-align: middle;\n",
       "    }\n",
       "\n",
       "    .dataframe tbody tr th {\n",
       "        vertical-align: top;\n",
       "    }\n",
       "\n",
       "    .dataframe thead th {\n",
       "        text-align: right;\n",
       "    }\n",
       "</style>\n",
       "<table border=\"1\" class=\"dataframe\">\n",
       "  <thead>\n",
       "    <tr style=\"text-align: right;\">\n",
       "      <th></th>\n",
       "      <th>id</th>\n",
       "      <th>gender</th>\n",
       "      <th>PPE</th>\n",
       "      <th>DFA</th>\n",
       "      <th>RPDE</th>\n",
       "      <th>numPulses</th>\n",
       "      <th>numPeriodsPulses</th>\n",
       "      <th>meanPeriodPulses</th>\n",
       "      <th>stdDevPeriodPulses</th>\n",
       "      <th>locPctJitter</th>\n",
       "      <th>...</th>\n",
       "      <th>tqwt_kurtosisValue_dec_28</th>\n",
       "      <th>tqwt_kurtosisValue_dec_29</th>\n",
       "      <th>tqwt_kurtosisValue_dec_30</th>\n",
       "      <th>tqwt_kurtosisValue_dec_31</th>\n",
       "      <th>tqwt_kurtosisValue_dec_32</th>\n",
       "      <th>tqwt_kurtosisValue_dec_33</th>\n",
       "      <th>tqwt_kurtosisValue_dec_34</th>\n",
       "      <th>tqwt_kurtosisValue_dec_35</th>\n",
       "      <th>tqwt_kurtosisValue_dec_36</th>\n",
       "      <th>class</th>\n",
       "    </tr>\n",
       "  </thead>\n",
       "  <tbody>\n",
       "    <tr>\n",
       "      <th>0</th>\n",
       "      <td>0</td>\n",
       "      <td>1</td>\n",
       "      <td>0.85247</td>\n",
       "      <td>0.71826</td>\n",
       "      <td>0.57227</td>\n",
       "      <td>240</td>\n",
       "      <td>239</td>\n",
       "      <td>0.008064</td>\n",
       "      <td>0.000087</td>\n",
       "      <td>0.00218</td>\n",
       "      <td>...</td>\n",
       "      <td>1.5620</td>\n",
       "      <td>2.6445</td>\n",
       "      <td>3.8686</td>\n",
       "      <td>4.2105</td>\n",
       "      <td>5.1221</td>\n",
       "      <td>4.4625</td>\n",
       "      <td>2.6202</td>\n",
       "      <td>3.0004</td>\n",
       "      <td>18.9405</td>\n",
       "      <td>1</td>\n",
       "    </tr>\n",
       "    <tr>\n",
       "      <th>1</th>\n",
       "      <td>0</td>\n",
       "      <td>1</td>\n",
       "      <td>0.76686</td>\n",
       "      <td>0.69481</td>\n",
       "      <td>0.53966</td>\n",
       "      <td>234</td>\n",
       "      <td>233</td>\n",
       "      <td>0.008258</td>\n",
       "      <td>0.000073</td>\n",
       "      <td>0.00195</td>\n",
       "      <td>...</td>\n",
       "      <td>1.5589</td>\n",
       "      <td>3.6107</td>\n",
       "      <td>23.5155</td>\n",
       "      <td>14.1962</td>\n",
       "      <td>11.0261</td>\n",
       "      <td>9.5082</td>\n",
       "      <td>6.5245</td>\n",
       "      <td>6.3431</td>\n",
       "      <td>45.1780</td>\n",
       "      <td>1</td>\n",
       "    </tr>\n",
       "    <tr>\n",
       "      <th>2</th>\n",
       "      <td>0</td>\n",
       "      <td>1</td>\n",
       "      <td>0.85083</td>\n",
       "      <td>0.67604</td>\n",
       "      <td>0.58982</td>\n",
       "      <td>232</td>\n",
       "      <td>231</td>\n",
       "      <td>0.008340</td>\n",
       "      <td>0.000060</td>\n",
       "      <td>0.00176</td>\n",
       "      <td>...</td>\n",
       "      <td>1.5643</td>\n",
       "      <td>2.3308</td>\n",
       "      <td>9.4959</td>\n",
       "      <td>10.7458</td>\n",
       "      <td>11.0177</td>\n",
       "      <td>4.8066</td>\n",
       "      <td>2.9199</td>\n",
       "      <td>3.1495</td>\n",
       "      <td>4.7666</td>\n",
       "      <td>1</td>\n",
       "    </tr>\n",
       "    <tr>\n",
       "      <th>3</th>\n",
       "      <td>1</td>\n",
       "      <td>0</td>\n",
       "      <td>0.41121</td>\n",
       "      <td>0.79672</td>\n",
       "      <td>0.59257</td>\n",
       "      <td>178</td>\n",
       "      <td>177</td>\n",
       "      <td>0.010858</td>\n",
       "      <td>0.000183</td>\n",
       "      <td>0.00419</td>\n",
       "      <td>...</td>\n",
       "      <td>3.7805</td>\n",
       "      <td>3.5664</td>\n",
       "      <td>5.2558</td>\n",
       "      <td>14.0403</td>\n",
       "      <td>4.2235</td>\n",
       "      <td>4.6857</td>\n",
       "      <td>4.8460</td>\n",
       "      <td>6.2650</td>\n",
       "      <td>4.0603</td>\n",
       "      <td>1</td>\n",
       "    </tr>\n",
       "    <tr>\n",
       "      <th>4</th>\n",
       "      <td>1</td>\n",
       "      <td>0</td>\n",
       "      <td>0.32790</td>\n",
       "      <td>0.79782</td>\n",
       "      <td>0.53028</td>\n",
       "      <td>236</td>\n",
       "      <td>235</td>\n",
       "      <td>0.008162</td>\n",
       "      <td>0.002669</td>\n",
       "      <td>0.00535</td>\n",
       "      <td>...</td>\n",
       "      <td>6.1727</td>\n",
       "      <td>5.8416</td>\n",
       "      <td>6.0805</td>\n",
       "      <td>5.7621</td>\n",
       "      <td>7.7817</td>\n",
       "      <td>11.6891</td>\n",
       "      <td>8.2103</td>\n",
       "      <td>5.0559</td>\n",
       "      <td>6.1164</td>\n",
       "      <td>1</td>\n",
       "    </tr>\n",
       "  </tbody>\n",
       "</table>\n",
       "<p>5 rows × 755 columns</p>\n",
       "</div>"
      ],
      "text/plain": [
       "   id  gender      PPE      DFA     RPDE  numPulses  numPeriodsPulses  \\\n",
       "0   0       1  0.85247  0.71826  0.57227        240               239   \n",
       "1   0       1  0.76686  0.69481  0.53966        234               233   \n",
       "2   0       1  0.85083  0.67604  0.58982        232               231   \n",
       "3   1       0  0.41121  0.79672  0.59257        178               177   \n",
       "4   1       0  0.32790  0.79782  0.53028        236               235   \n",
       "\n",
       "   meanPeriodPulses  stdDevPeriodPulses  locPctJitter  ...  \\\n",
       "0          0.008064            0.000087       0.00218  ...   \n",
       "1          0.008258            0.000073       0.00195  ...   \n",
       "2          0.008340            0.000060       0.00176  ...   \n",
       "3          0.010858            0.000183       0.00419  ...   \n",
       "4          0.008162            0.002669       0.00535  ...   \n",
       "\n",
       "   tqwt_kurtosisValue_dec_28  tqwt_kurtosisValue_dec_29  \\\n",
       "0                     1.5620                     2.6445   \n",
       "1                     1.5589                     3.6107   \n",
       "2                     1.5643                     2.3308   \n",
       "3                     3.7805                     3.5664   \n",
       "4                     6.1727                     5.8416   \n",
       "\n",
       "   tqwt_kurtosisValue_dec_30  tqwt_kurtosisValue_dec_31  \\\n",
       "0                     3.8686                     4.2105   \n",
       "1                    23.5155                    14.1962   \n",
       "2                     9.4959                    10.7458   \n",
       "3                     5.2558                    14.0403   \n",
       "4                     6.0805                     5.7621   \n",
       "\n",
       "   tqwt_kurtosisValue_dec_32  tqwt_kurtosisValue_dec_33  \\\n",
       "0                     5.1221                     4.4625   \n",
       "1                    11.0261                     9.5082   \n",
       "2                    11.0177                     4.8066   \n",
       "3                     4.2235                     4.6857   \n",
       "4                     7.7817                    11.6891   \n",
       "\n",
       "   tqwt_kurtosisValue_dec_34  tqwt_kurtosisValue_dec_35  \\\n",
       "0                     2.6202                     3.0004   \n",
       "1                     6.5245                     6.3431   \n",
       "2                     2.9199                     3.1495   \n",
       "3                     4.8460                     6.2650   \n",
       "4                     8.2103                     5.0559   \n",
       "\n",
       "   tqwt_kurtosisValue_dec_36  class  \n",
       "0                    18.9405      1  \n",
       "1                    45.1780      1  \n",
       "2                     4.7666      1  \n",
       "3                     4.0603      1  \n",
       "4                     6.1164      1  \n",
       "\n",
       "[5 rows x 755 columns]"
      ]
     },
     "execution_count": 7,
     "metadata": {},
     "output_type": "execute_result"
    }
   ],
   "source": [
    "df1.head()"
   ]
  },
  {
   "cell_type": "code",
   "execution_count": 8,
   "id": "9f1ce8ae-8cc8-4649-82ad-7229bb1002ea",
   "metadata": {},
   "outputs": [
    {
     "data": {
      "text/plain": [
       "Index(['id', 'gender', 'PPE', 'DFA', 'RPDE', 'numPulses', 'numPeriodsPulses',\n",
       "       'meanPeriodPulses', 'stdDevPeriodPulses', 'locPctJitter',\n",
       "       ...\n",
       "       'tqwt_kurtosisValue_dec_28', 'tqwt_kurtosisValue_dec_29',\n",
       "       'tqwt_kurtosisValue_dec_30', 'tqwt_kurtosisValue_dec_31',\n",
       "       'tqwt_kurtosisValue_dec_32', 'tqwt_kurtosisValue_dec_33',\n",
       "       'tqwt_kurtosisValue_dec_34', 'tqwt_kurtosisValue_dec_35',\n",
       "       'tqwt_kurtosisValue_dec_36', 'class'],\n",
       "      dtype='object', length=755)"
      ]
     },
     "execution_count": 8,
     "metadata": {},
     "output_type": "execute_result"
    }
   ],
   "source": [
    "df1.columns"
   ]
  },
  {
   "cell_type": "code",
   "execution_count": 10,
   "id": "1d61f5a0-4d4f-4e0d-a8c9-05bd2105a2d0",
   "metadata": {},
   "outputs": [
    {
     "name": "stdout",
     "output_type": "stream",
     "text": [
      "<class 'pandas.core.frame.DataFrame'>\n",
      "RangeIndex: 756 entries, 0 to 755\n",
      "Columns: 755 entries, id to class\n",
      "dtypes: float64(749), int64(6)\n",
      "memory usage: 4.4 MB\n"
     ]
    }
   ],
   "source": [
    "df1.info()"
   ]
  },
  {
   "cell_type": "markdown",
   "id": "8ee3f1e9-a6ff-4c9d-a88d-b6539b6ae954",
   "metadata": {},
   "source": [
    "<h3><b><span style = \"color:#f1cfc8\">Selecting the Variables"
   ]
  },
  {
   "cell_type": "code",
   "execution_count": 11,
   "id": "09e7f138-5eab-4a3c-b173-e4b4db1bf191",
   "metadata": {},
   "outputs": [],
   "source": [
    "X = df1.iloc[:, 0:754].values  # select the independent variables\n",
    "y = df1.iloc[:, 754].values    # select the dependent variable and target column"
   ]
  },
  {
   "cell_type": "markdown",
   "id": "2da9fa95-ca7c-4e2f-b044-e1dd863ad9be",
   "metadata": {},
   "source": [
    "<h3><b><span style = \"color:#f1ecc8\">Dataset Processing and Feature Modification"
   ]
  },
  {
   "cell_type": "code",
   "execution_count": 12,
   "id": "4d14dc0f-ff1a-4467-8a2d-7c8ca68f0a40",
   "metadata": {},
   "outputs": [],
   "source": [
    "from sklearn.preprocessing import StandardScaler\n",
    "X = StandardScaler().fit_transform(X)"
   ]
  },
  {
   "cell_type": "code",
   "execution_count": 13,
   "id": "f28997f9-dfa7-49ff-a483-15bbfa0e0809",
   "metadata": {},
   "outputs": [
    {
     "name": "stdout",
     "output_type": "stream",
     "text": [
      "Covariance matrix \n",
      "[[ 1.0013245  -0.13378215  0.02670192 ... -0.05811108 -0.05788379\n",
      "  -0.05584903]\n",
      " [-0.13378215  1.0013245   0.01018855 ...  0.12910653  0.10787687\n",
      "   0.10496656]\n",
      " [ 0.02670192  0.01018855  1.0013245  ...  0.04623629  0.03743406\n",
      "   0.03964023]\n",
      " ...\n",
      " [-0.05811108  0.12910653  0.04623629 ...  1.0013245   0.94926382\n",
      "   0.7861811 ]\n",
      " [-0.05788379  0.10787687  0.03743406 ...  0.94926382  1.0013245\n",
      "   0.86784425]\n",
      " [-0.05584903  0.10496656  0.03964023 ...  0.7861811   0.86784425\n",
      "   1.0013245 ]]\n"
     ]
    }
   ],
   "source": [
    "X_mean = np.mean(X, axis=0)\n",
    "# cov_mat = np.cov(X) # another method \n",
    "cov_mat = (X - X_mean).T.dot((X - X_mean)) / (X.shape[0]-1)\n",
    "print('Covariance matrix \\n%s' %cov_mat)"
   ]
  },
  {
   "cell_type": "code",
   "execution_count": 14,
   "id": "f8f7aae0-a031-427c-bac4-42a79ac32f8c",
   "metadata": {},
   "outputs": [
    {
     "name": "stdout",
     "output_type": "stream",
     "text": [
      "NumPy covariance matrix: \n",
      "[[ 1.0013245  -0.13378215  0.02670192 ... -0.05811108 -0.05788379\n",
      "  -0.05584903]\n",
      " [-0.13378215  1.0013245   0.01018855 ...  0.12910653  0.10787687\n",
      "   0.10496656]\n",
      " [ 0.02670192  0.01018855  1.0013245  ...  0.04623629  0.03743406\n",
      "   0.03964023]\n",
      " ...\n",
      " [-0.05811108  0.12910653  0.04623629 ...  1.0013245   0.94926382\n",
      "   0.7861811 ]\n",
      " [-0.05788379  0.10787687  0.03743406 ...  0.94926382  1.0013245\n",
      "   0.86784425]\n",
      " [-0.05584903  0.10496656  0.03964023 ...  0.7861811   0.86784425\n",
      "   1.0013245 ]]\n"
     ]
    }
   ],
   "source": [
    "print('NumPy covariance matrix: \\n%s' %np.cov(X.T))"
   ]
  },
  {
   "cell_type": "code",
   "execution_count": 15,
   "id": "af75c2c5-b2f8-4892-a099-39f35f75dc2b",
   "metadata": {},
   "outputs": [
    {
     "name": "stdout",
     "output_type": "stream",
     "text": [
      "Eigenvectors \n",
      "[[-7.34343947e-03 -1.16719053e-03  6.51538260e-03 ...  9.65305801e-09\n",
      "  -1.03919510e-06  4.48024718e-07]\n",
      " [ 4.50265736e-02 -4.70096509e-02 -6.29257413e-03 ... -1.34574766e-07\n",
      "  -8.83999313e-07 -6.31420042e-06]\n",
      " [-1.73695965e-02 -1.04538133e-02 -5.76635105e-02 ...  2.33494166e-08\n",
      "   2.60437003e-06 -6.82636594e-06]\n",
      " [ 4.92192614e-02 -2.46931648e-03  1.58072835e-03 ...  1.47522516e-07\n",
      "   6.92927735e-06 -2.14875652e-05]\n",
      " [ 5.49956743e-02 -4.58086092e-03  4.95065904e-02 ... -4.38392747e-08\n",
      "   5.68029739e-06 -7.60266017e-06]]\n",
      "\n",
      "Eigenvalues \n",
      "[97.73833579 70.80079574 62.22641008 32.3546798  26.90448685]\n"
     ]
    }
   ],
   "source": [
    "eigenvalues, eigenvectors = np.linalg.eig(cov_mat)\n",
    "\n",
    "print('Eigenvectors \\n%s' %eigenvectors[:5])\n",
    "print('\\nEigenvalues \\n%s' %eigenvalues[:5])"
   ]
  },
  {
   "cell_type": "code",
   "execution_count": 16,
   "id": "0604b0a1-c8dd-4e45-8180-0e1e547e5e17",
   "metadata": {},
   "outputs": [
    {
     "data": {
      "text/plain": [
       "754"
      ]
     },
     "execution_count": 16,
     "metadata": {},
     "output_type": "execute_result"
    }
   ],
   "source": [
    "len(eigenvalues)"
   ]
  },
  {
   "cell_type": "code",
   "execution_count": 17,
   "id": "0aee0159-7042-4387-8ad2-adb602e829b9",
   "metadata": {},
   "outputs": [
    {
     "data": {
      "text/plain": [
       "[12.945497649128221,\n",
       " 9.377605291277405,\n",
       " 8.241923079119951,\n",
       " 4.285395570467562,\n",
       " 3.563514443250979,\n",
       " 2.992421117144732,\n",
       " 2.50824799138592,\n",
       " 2.211802240978647,\n",
       " 2.0327945235077918,\n",
       " 1.8219685053528067,\n",
       " 1.764887618922754,\n",
       " 1.4932749143002968,\n",
       " 1.30515358943006,\n",
       " 1.271242748039766,\n",
       " 1.2675001467996359,\n",
       " 1.1662274492028095,\n",
       " 1.067750828584221,\n",
       " 1.0569704086230718,\n",
       " 0.948421375982152,\n",
       " 0.9343986018183823,\n",
       " 0.8664490917172963,\n",
       " 0.8054486120155179,\n",
       " 0.7619017160440678,\n",
       " 0.7386731197986595,\n",
       " 0.6675490829100312,\n",
       " 0.6269640033489295,\n",
       " 0.6230528890774691,\n",
       " 0.6081042667178629,\n",
       " 0.5863152359934476,\n",
       " 0.5587794280264594,\n",
       " 0.5263561269283525,\n",
       " 0.521934023852452,\n",
       " 0.49848971279815485,\n",
       " 0.4815530140957352,\n",
       " 0.4692146311775066,\n",
       " 0.45737160607826177,\n",
       " 0.441115975012487,\n",
       " 0.4154045147379747,\n",
       " 0.40295019727398945,\n",
       " 0.3806075514009982,\n",
       " 0.3772762864733803,\n",
       " 0.3687919504110242,\n",
       " 0.36037333481328276,\n",
       " 0.3503888439964801,\n",
       " 0.34600638834247177,\n",
       " 0.34150382897913806,\n",
       " 0.33567533888366946,\n",
       " 0.31494259655231943,\n",
       " 0.3126777263417163,\n",
       " 0.30582535233186275]"
      ]
     },
     "execution_count": 17,
     "metadata": {},
     "output_type": "execute_result"
    }
   ],
   "source": [
    "total_of_eigenvalues = sum(eigenvalues)\n",
    "varariance = [(i / total_of_eigenvalues)*100 for i in sorted(eigenvalues, reverse=True)]\n",
    "\n",
    "varariance[:50]"
   ]
  },
  {
   "cell_type": "markdown",
   "id": "8b157893-5aa5-43ab-89c9-3800d28dfdf3",
   "metadata": {},
   "source": [
    "<h3><b><span style = \"color:blue\"> Dataset Visualisation"
   ]
  },
  {
   "cell_type": "code",
   "execution_count": 18,
   "id": "1020e6a8-fdda-40f3-84c1-9fbf3bdbcc97",
   "metadata": {},
   "outputs": [
    {
     "data": {
      "image/png": "[encoded data removed]",
      "text/plain": [
       "<Figure size 1080x720 with 1 Axes>"
      ]
     },
     "metadata": {},
     "output_type": "display_data"
    }
   ],
   "source": [
    "import matplotlib.pyplot as plt\n",
    "\n",
    "with plt.style.context('dark_background'):\n",
    "    plt.figure(figsize=(15, 10))\n",
    "\n",
    "    plt.bar(range(len(eigenvalues)), varariance, alpha=0.8, align='center',\n",
    "            label='individual explained variance')\n",
    "    plt.ylabel('Explained variance ratio')\n",
    "    plt.xlabel('Principal components')\n",
    "    plt.legend(loc='best')\n",
    "    plt.tight_layout()"
   ]
  },
  {
   "cell_type": "code",
   "execution_count": 19,
   "id": "97eb28a2-e62d-43d5-9353-3f3affbf260c",
   "metadata": {},
   "outputs": [
    {
     "data": {
      "text/plain": [
       "12.945497649128221"
      ]
     },
     "execution_count": 19,
     "metadata": {},
     "output_type": "execute_result"
    }
   ],
   "source": [
    "varariance[0]"
   ]
  },
  {
   "cell_type": "code",
   "execution_count": 20,
   "id": "3650a52a-f228-4932-b47d-d47809ae462b",
   "metadata": {},
   "outputs": [
    {
     "data": {
      "text/plain": [
       "97.73833578737317"
      ]
     },
     "execution_count": 20,
     "metadata": {},
     "output_type": "execute_result"
    }
   ],
   "source": [
    "eigenpairs = [(np.abs(eigenvalues[i]), eigenvectors[:,i]) for i in range(len(eigenvalues))]\n",
    "\n",
    "# Sorting eigenvalues and eigenvectors from higher values to lower values\n",
    "eigenpairs.sort(key=lambda x: x[0], reverse=True)\n",
    "\n",
    "eigenpairs[0][0]"
   ]
  },
  {
   "cell_type": "code",
   "execution_count": 21,
   "id": "482dc2a7-7d07-4bdf-aa72-0fe1f4201e61",
   "metadata": {},
   "outputs": [
    {
     "data": {
      "text/plain": [
       "(754,)"
      ]
     },
     "execution_count": 21,
     "metadata": {},
     "output_type": "execute_result"
    }
   ],
   "source": [
    "eigenpairs[5][1].shape"
   ]
  },
  {
   "cell_type": "code",
   "execution_count": 22,
   "id": "d3469e60-9159-4efc-915b-544349d82e68",
   "metadata": {},
   "outputs": [
    {
     "data": {
      "text/plain": [
       "array([[-0.00734344, -0.00116719,  0.00651538, -0.01492142, -0.02300192,\n",
       "        -0.02108613],\n",
       "       [ 0.04502657, -0.04700965, -0.00629257,  0.02420969,  0.01025892,\n",
       "        -0.0093586 ],\n",
       "       [-0.0173696 , -0.01045381, -0.05766351,  0.01222901, -0.0054791 ,\n",
       "        -0.02363094],\n",
       "       ...,\n",
       "       [ 0.01324704,  0.00858509, -0.0217637 ,  0.01327137,  0.03581234,\n",
       "         0.023377  ],\n",
       "       [ 0.01942424,  0.01718094, -0.02271759,  0.01791082,  0.02336868,\n",
       "         0.02014452],\n",
       "       [ 0.02902069,  0.03571027, -0.02900893,  0.02433487,  0.01406922,\n",
       "         0.01866721]])"
      ]
     },
     "execution_count": 22,
     "metadata": {},
     "output_type": "execute_result"
    }
   ],
   "source": [
    " #only for 6 features \n",
    "matrix_weighing = np.hstack((eigenpairs[0][1].reshape(754,1),\n",
    "                      eigenpairs[1][1].reshape(754,1),\n",
    "                      eigenpairs[2][1].reshape(754,1),\n",
    "                      eigenpairs[3][1].reshape(754,1),\n",
    "                      eigenpairs[4][1].reshape(754,1),\n",
    "                      eigenpairs[5][1].reshape(754,1)))\n",
    "matrix_weighing"
   ]
  },
  {
   "cell_type": "code",
   "execution_count": 23,
   "id": "4229f514-0dfa-4ea5-940c-ad68b8151845",
   "metadata": {},
   "outputs": [
    {
     "data": {
      "text/plain": [
       "(756, 6)"
      ]
     },
     "execution_count": 23,
     "metadata": {},
     "output_type": "execute_result"
    }
   ],
   "source": [
    "Y = X.dot(matrix_weighing)\n",
    "Y.shape"
   ]
  },
  {
   "cell_type": "code",
   "execution_count": 25,
   "id": "058bca6b-4891-490c-a225-868678b7f032",
   "metadata": {},
   "outputs": [
    {
     "data": {
      "text/plain": [
       "array([1, 0], dtype=int64)"
      ]
     },
     "execution_count": 25,
     "metadata": {},
     "output_type": "execute_result"
    }
   ],
   "source": [
    "\n",
    "df1[\"class\"].unique()"
   ]
  },
  {
   "cell_type": "code",
   "execution_count": 26,
   "id": "08c2c735-701f-48d8-a38d-9dc8ac2b490a",
   "metadata": {},
   "outputs": [
    {
     "name": "stderr",
     "output_type": "stream",
     "text": [
      "<ipython-input-26-6464d872e530>:6: FutureWarning: elementwise comparison failed; returning scalar instead, but in the future will perform elementwise comparison\n",
      "  plt.scatter(Y[y==lab, 0], Y[y==lab, 1], label=lab, c=col)\n"
     ]
    },
    {
     "data": {
      "image/png": "[encoded data removed]",
      "text/plain": [
       "<Figure size 432x288 with 1 Axes>"
      ]
     },
     "metadata": {},
     "output_type": "display_data"
    }
   ],
   "source": [
    "import matplotlib.pyplot as plt\n",
    "\n",
    "with plt.style.context('seaborn-whitegrid'):\n",
    "    plt.figure(figsize=(6, 4))\n",
    "    for lab, col in zip(('0', '1'), ('red', 'green')):\n",
    "        plt.scatter(Y[y==lab, 0], Y[y==lab, 1], label=lab, c=col)\n",
    "    plt.xlabel('Principal Component 1')\n",
    "    plt.ylabel('Principal Component 2')\n",
    "    plt.legend(loc='lower center')\n",
    "    plt.tight_layout();\n",
    "    plt.show();"
   ]
  },
  {
   "cell_type": "code",
   "execution_count": 27,
   "id": "13a781b1-b79f-4487-84ad-597aaae30330",
   "metadata": {},
   "outputs": [
    {
     "data": {
      "text/plain": [
       "Text(0, 0.5, 'Cumulative explained variance')"
      ]
     },
     "execution_count": 27,
     "metadata": {},
     "output_type": "execute_result"
    },
    {
     "data": {
      "image/png": "[encoded data removed]",
      "text/plain": [
       "<Figure size 432x288 with 1 Axes>"
      ]
     },
     "metadata": {
      "needs_background": "light"
     },
     "output_type": "display_data"
    }
   ],
   "source": [
    "from sklearn.decomposition import PCA\n",
    "pca = PCA().fit(X)\n",
    "plt.plot(np.cumsum(pca.explained_variance_ratio_))\n",
    "plt.xlim(0,754,1)\n",
    "plt.grid()\n",
    "plt.xlabel('Number of components')\n",
    "plt.ylabel('Cumulative explained variance')"
   ]
  },
  {
   "cell_type": "code",
   "execution_count": 28,
   "id": "c8cdb65b-af9f-4dae-9a4f-73f44de562e1",
   "metadata": {},
   "outputs": [],
   "source": [
    "from sklearn.model_selection import train_test_split\n",
    "X_train, X_test, y_train, y_test = train_test_split(X, y, test_size = 0.2, random_state = 0)"
   ]
  },
  {
   "cell_type": "code",
   "execution_count": 29,
   "id": "17d76bd6-f323-48a5-b23a-b6db6d724cdd",
   "metadata": {},
   "outputs": [
    {
     "name": "stdout",
     "output_type": "stream",
     "text": [
      "X_train shape =  (604, 754)\n",
      "X_test shape =  (152, 754)\n"
     ]
    }
   ],
   "source": [
    "# Standard scaler haline getirme verileri\n",
    "from sklearn.preprocessing import StandardScaler\n",
    "sc = StandardScaler()\n",
    "X_train = sc.fit_transform(X_train)\n",
    "X_test = sc.transform(X_test)\n",
    "print(\"X_train shape = \",X_train.shape)\n",
    "print(\"X_test shape = \",X_test.shape)"
   ]
  },
  {
   "cell_type": "code",
   "execution_count": 30,
   "id": "6d5c3282-5ce8-44f3-9654-705ddc9bad00",
   "metadata": {},
   "outputs": [
    {
     "name": "stdout",
     "output_type": "stream",
     "text": [
      "X_train2 shape =  (604, 6)\n",
      "X_test2 shape =  (152, 6)\n"
     ]
    }
   ],
   "source": [
    "# PCA\n",
    "from sklearn.decomposition import PCA\n",
    "pca = PCA(n_components = 6)\n",
    "\n",
    "X_train2 = pca.fit_transform(X_train) # sadece bir tane PCA ile çalışıyor aynı uzayda olması için\n",
    "X_test2 = pca.transform(X_test)       # test verisini eğitmiyoruz sadece transform uyguluyoruz\n",
    "\n",
    "print(\"X_train2 shape = \",X_train2.shape)\n",
    "print(\"X_test2 shape = \",X_test2.shape)"
   ]
  },
  {
   "cell_type": "code",
   "execution_count": 31,
   "id": "995f455c-f47e-485b-881b-54047cf05887",
   "metadata": {},
   "outputs": [
    {
     "name": "stderr",
     "output_type": "stream",
     "text": [
      "C:\\Users\\hp\\anaconda3\\lib\\site-packages\\sklearn\\linear_model\\_logistic.py:763: ConvergenceWarning: lbfgs failed to converge (status=1):\n",
      "STOP: TOTAL NO. of ITERATIONS REACHED LIMIT.\n",
      "\n",
      "Increase the number of iterations (max_iter) or scale the data as shown in:\n",
      "    https://scikit-learn.org/stable/modules/preprocessing.html\n",
      "Please also refer to the documentation for alternative solver options:\n",
      "    https://scikit-learn.org/stable/modules/linear_model.html#logistic-regression\n",
      "  n_iter_i = _check_optimize_result(\n"
     ]
    },
    {
     "data": {
      "text/plain": [
       "LogisticRegression(random_state=0)"
      ]
     },
     "execution_count": 31,
     "metadata": {},
     "output_type": "execute_result"
    }
   ],
   "source": [
    "from sklearn.linear_model import LogisticRegression\n",
    "classifier = LogisticRegression(random_state=0)\n",
    "classifier.fit(X_train,y_train)"
   ]
  },
  {
   "cell_type": "code",
   "execution_count": 32,
   "id": "56122cd0-5985-4403-b6d9-3483b4b012a6",
   "metadata": {},
   "outputs": [
    {
     "data": {
      "text/plain": [
       "LogisticRegression(random_state=0)"
      ]
     },
     "execution_count": 32,
     "metadata": {},
     "output_type": "execute_result"
    }
   ],
   "source": [
    "classifier2 = LogisticRegression(random_state=0)\n",
    "classifier2.fit(X_train2,y_train)"
   ]
  },
  {
   "cell_type": "code",
   "execution_count": 33,
   "id": "18e57ae9-9b8c-46ab-a576-6253e41b27ea",
   "metadata": {},
   "outputs": [],
   "source": [
    "y_pred = classifier.predict(X_test)    # without PCA\n",
    "y_pred2 = classifier2.predict(X_test2) # after PCA"
   ]
  },
  {
   "cell_type": "code",
   "execution_count": 34,
   "id": "f30ace46-4e55-4385-9354-bdd85771656b",
   "metadata": {},
   "outputs": [
    {
     "name": "stdout",
     "output_type": "stream",
     "text": [
      "Comparison between real and before PCA\n",
      "Accuracy Score: 0.8092105263157895\n",
      "Confusion matrix \n",
      " [[25 13]\n",
      " [16 98]]\n",
      "Classification \n",
      "               precision    recall  f1-score   support\n",
      "\n",
      "           0       0.61      0.66      0.63        38\n",
      "           1       0.88      0.86      0.87       114\n",
      "\n",
      "    accuracy                           0.81       152\n",
      "   macro avg       0.75      0.76      0.75       152\n",
      "weighted avg       0.81      0.81      0.81       152\n",
      "\n"
     ]
    }
   ],
   "source": [
    "from sklearn.metrics import confusion_matrix\n",
    "from sklearn import neighbors, datasets, preprocessing\n",
    "from sklearn.metrics import accuracy_score\n",
    "from sklearn.metrics import classification_report\n",
    "\n",
    "#actual / PCA olmadan çıkan sonuç\n",
    "print(\"Comparison between real and before PCA\")\n",
    "\n",
    "print('Accuracy Score:', accuracy_score(y_test, y_pred))\n",
    "print('Confusion matrix \\n',  confusion_matrix(y_test, y_pred))\n",
    "print('Classification \\n', classification_report(y_test, y_pred))"
   ]
  },
  {
   "cell_type": "code",
   "execution_count": 35,
   "id": "5dfa497e-b0ee-48d3-b923-3452f503b592",
   "metadata": {},
   "outputs": [
    {
     "name": "stdout",
     "output_type": "stream",
     "text": [
      "Comparison between real and after PCA \n",
      "Accuracy Score: 0.8157894736842105\n",
      "Confusion matrix \n",
      " [[ 19  19]\n",
      " [  9 105]]\n",
      "Classification \n",
      "               precision    recall  f1-score   support\n",
      "\n",
      "           0       0.68      0.50      0.58        38\n",
      "           1       0.85      0.92      0.88       114\n",
      "\n",
      "    accuracy                           0.82       152\n",
      "   macro avg       0.76      0.71      0.73       152\n",
      "weighted avg       0.80      0.82      0.81       152\n",
      "\n"
     ]
    }
   ],
   "source": [
    "print(\"Comparison between real and after PCA \")\n",
    "\n",
    "print('Accuracy Score:', accuracy_score(y_test, y_pred2))\n",
    "print('Confusion matrix \\n',  confusion_matrix(y_test, y_pred2))\n",
    "print('Classification \\n', classification_report(y_test, y_pred2))"
   ]
  },
  {
   "cell_type": "code",
   "execution_count": 36,
   "id": "f762da36-db18-4dec-b0de-14a2e9f286a0",
   "metadata": {},
   "outputs": [
    {
     "name": "stdout",
     "output_type": "stream",
     "text": [
      "Support Vector Machine:\n",
      "Comparison between real and before PCA\n",
      "Accuracy Score: 0.8355263157894737\n",
      "Confusion matrix \n",
      " [[ 17  21]\n",
      " [  4 110]]\n",
      "Classification \n",
      "               precision    recall  f1-score   support\n",
      "\n",
      "           0       0.81      0.45      0.58        38\n",
      "           1       0.84      0.96      0.90       114\n",
      "\n",
      "    accuracy                           0.84       152\n",
      "   macro avg       0.82      0.71      0.74       152\n",
      "weighted avg       0.83      0.84      0.82       152\n",
      "\n"
     ]
    }
   ],
   "source": [
    "#Support Vector Machine\n",
    "from sklearn.svm import SVC\n",
    " \n",
    "\n",
    "classifier = SVC()\n",
    "classifier.fit(X_train,y_train)\n",
    "y_pred = classifier.predict(X_test)\n",
    "cm = confusion_matrix(y_test,y_pred)\n",
    "accuracy = accuracy_score(y_test,y_pred)\n",
    "print(\"Support Vector Machine:\")\n",
    "\n",
    "print(\"Comparison between real and before PCA\")\n",
    "\n",
    "print('Accuracy Score:', accuracy_score(y_test, y_pred))\n",
    "print('Confusion matrix \\n',  confusion_matrix(y_test, y_pred))\n",
    "print('Classification \\n', classification_report(y_test, y_pred))"
   ]
  },
  {
   "cell_type": "code",
   "execution_count": 37,
   "id": "fa7cb47e-846f-433c-8933-0a7ad5f22ab6",
   "metadata": {},
   "outputs": [
    {
     "name": "stdout",
     "output_type": "stream",
     "text": [
      "Support Vector Machine:\n",
      "Comparison between real and after PCA\n",
      "Accuracy Score: 0.8289473684210527\n",
      "Confusion matrix \n",
      " [[ 19  19]\n",
      " [  7 107]]\n",
      "Classification \n",
      "               precision    recall  f1-score   support\n",
      "\n",
      "           0       0.73      0.50      0.59        38\n",
      "           1       0.85      0.94      0.89       114\n",
      "\n",
      "    accuracy                           0.83       152\n",
      "   macro avg       0.79      0.72      0.74       152\n",
      "weighted avg       0.82      0.83      0.82       152\n",
      "\n"
     ]
    }
   ],
   "source": [
    "#Support Vector Machine\n",
    "from sklearn.svm import SVC\n",
    " \n",
    "\n",
    "classifier = SVC()\n",
    "classifier.fit(X_train2,y_train)\n",
    "y_pred2 = classifier.predict(X_test2)\n",
    "cm = confusion_matrix(y_test,y_pred2)\n",
    "accuracy = accuracy_score(y_test,y_pred2)\n",
    "print(\"Support Vector Machine:\")\n",
    "\n",
    "print(\"Comparison between real and after PCA\")\n",
    "\n",
    "print('Accuracy Score:', accuracy_score(y_test, y_pred2))\n",
    "print('Confusion matrix \\n',  confusion_matrix(y_test, y_pred2))\n",
    "print('Classification \\n', classification_report(y_test, y_pred2))"
   ]
  },
  {
   "cell_type": "code",
   "execution_count": 38,
   "id": "90eb41fc-711a-4e49-9fe5-02d19148567e",
   "metadata": {},
   "outputs": [
    {
     "name": "stdout",
     "output_type": "stream",
     "text": [
      "Decision Tree Classifier :\n",
      "Comparison between real and before PCA\n",
      "Accuracy Score: 0.8552631578947368\n",
      "Confusion matrix \n",
      " [[ 25  13]\n",
      " [  9 105]]\n",
      "Classification \n",
      "               precision    recall  f1-score   support\n",
      "\n",
      "           0       0.74      0.66      0.69        38\n",
      "           1       0.89      0.92      0.91       114\n",
      "\n",
      "    accuracy                           0.86       152\n",
      "   macro avg       0.81      0.79      0.80       152\n",
      "weighted avg       0.85      0.86      0.85       152\n",
      "\n"
     ]
    }
   ],
   "source": [
    "from sklearn.model_selection import train_test_split\n",
    "\n",
    "\n",
    "from sklearn.tree import DecisionTreeClassifier as DT\n",
    "from sklearn.metrics import confusion_matrix\n",
    "from sklearn.metrics import accuracy_score\n",
    "\n",
    "classifier = DT(criterion='entropy', random_state=0)\n",
    "classifier.fit(X_train,y_train)\n",
    "y_pred = classifier.predict(X_test)\n",
    "\n",
    "print(\"Decision Tree Classifier :\")\n",
    "\n",
    "print(\"Comparison between real and before PCA\")\n",
    "\n",
    "print('Accuracy Score:', accuracy_score(y_test, y_pred))\n",
    "print('Confusion matrix \\n',  confusion_matrix(y_test, y_pred))\n",
    "print('Classification \\n', classification_report(y_test, y_pred))"
   ]
  },
  {
   "cell_type": "code",
   "execution_count": 39,
   "id": "279ec495-7e3f-4702-bc7c-4c8eb12d559a",
   "metadata": {},
   "outputs": [
    {
     "name": "stdout",
     "output_type": "stream",
     "text": [
      "Comparison between real and after PCA\n",
      "Accuracy Score: 0.756578947368421\n",
      "Confusion matrix \n",
      " [[23 15]\n",
      " [22 92]]\n",
      "Classification \n",
      "               precision    recall  f1-score   support\n",
      "\n",
      "           0       0.51      0.61      0.55        38\n",
      "           1       0.86      0.81      0.83       114\n",
      "\n",
      "    accuracy                           0.76       152\n",
      "   macro avg       0.69      0.71      0.69       152\n",
      "weighted avg       0.77      0.76      0.76       152\n",
      "\n"
     ]
    }
   ],
   "source": [
    "from sklearn.model_selection import train_test_split\n",
    "\n",
    "\n",
    "from sklearn.tree import DecisionTreeClassifier as DT\n",
    "from sklearn.metrics import confusion_matrix\n",
    "from sklearn.metrics import accuracy_score\n",
    "\n",
    "classifier = DT(criterion='entropy', random_state=0)\n",
    "classifier.fit(X_train2,y_train)\n",
    "y_pred2 = classifier.predict(X_test2)\n",
    "\n",
    "\n",
    "print(\"Comparison between real and after PCA\")\n",
    "\n",
    "print('Accuracy Score:', accuracy_score(y_test, y_pred2))\n",
    "print('Confusion matrix \\n',  confusion_matrix(y_test, y_pred2))\n",
    "print('Classification \\n', classification_report(y_test, y_pred2))"
   ]
  },
  {
   "cell_type": "code",
   "execution_count": 40,
   "id": "2c72afa0-71f5-40b8-b366-121a4d44618f",
   "metadata": {},
   "outputs": [
    {
     "name": "stdout",
     "output_type": "stream",
     "text": [
      "K-Neighbors Classifier :\n",
      "Comparison between real and before PCA\n",
      "Accuracy Score: 0.8421052631578947\n",
      "Confusion matrix \n",
      " [[ 21  17]\n",
      " [  7 107]]\n",
      "Classification \n",
      "               precision    recall  f1-score   support\n",
      "\n",
      "           0       0.75      0.55      0.64        38\n",
      "           1       0.86      0.94      0.90       114\n",
      "\n",
      "    accuracy                           0.84       152\n",
      "   macro avg       0.81      0.75      0.77       152\n",
      "weighted avg       0.83      0.84      0.83       152\n",
      "\n"
     ]
    }
   ],
   "source": [
    "from sklearn import neighbors, datasets, preprocessing\n",
    "from sklearn.metrics import accuracy_score\n",
    "from sklearn.metrics import classification_report\n",
    "from sklearn.metrics import confusion_matrix\n",
    "knn = neighbors.KNeighborsClassifier(n_neighbors=5)\n",
    "knn.fit(X_train, y_train)\n",
    "y_pred = knn.predict(X_test)\n",
    "\n",
    "print(\"K-Neighbors Classifier :\")\n",
    "\n",
    "print(\"Comparison between real and before PCA\")\n",
    "\n",
    "print('Accuracy Score:', accuracy_score(y_test, y_pred))\n",
    "print('Confusion matrix \\n',  confusion_matrix(y_test, y_pred))\n",
    "print('Classification \\n', classification_report(y_test, y_pred))"
   ]
  },
  {
   "cell_type": "code",
   "execution_count": 41,
   "id": "1d6b1b07-5920-4165-9952-752f24aa923b",
   "metadata": {},
   "outputs": [
    {
     "name": "stdout",
     "output_type": "stream",
     "text": [
      "Comparison between real and after PCA\n",
      "Accuracy Score: 0.8026315789473685\n",
      "Confusion matrix \n",
      " [[ 21  17]\n",
      " [ 13 101]]\n",
      "Classification \n",
      "               precision    recall  f1-score   support\n",
      "\n",
      "           0       0.62      0.55      0.58        38\n",
      "           1       0.86      0.89      0.87       114\n",
      "\n",
      "    accuracy                           0.80       152\n",
      "   macro avg       0.74      0.72      0.73       152\n",
      "weighted avg       0.80      0.80      0.80       152\n",
      "\n"
     ]
    }
   ],
   "source": [
    "knn = neighbors.KNeighborsClassifier(n_neighbors=5)\n",
    "knn.fit(X_train2, y_train)\n",
    "y_pred2 = knn.predict(X_test2)\n",
    "\n",
    "print(\"Comparison between real and after PCA\")\n",
    "print('Accuracy Score:', accuracy_score(y_test, y_pred2))\n",
    "print('Confusion matrix \\n',  confusion_matrix(y_test, y_pred2))\n",
    "print('Classification \\n', classification_report(y_test, y_pred2))"
   ]
  },
  {
   "cell_type": "code",
   "execution_count": 42,
   "id": "3d334b9a-62db-48d8-874c-c44b09c93d48",
   "metadata": {},
   "outputs": [
    {
     "name": "stdout",
     "output_type": "stream",
     "text": [
      "Random Forest Classifier :\n",
      "Comparison between real and before PCA\n",
      "Accuracy Score: 0.8355263157894737\n",
      "Confusion matrix \n",
      " [[ 20  18]\n",
      " [  7 107]]\n",
      "Classification \n",
      "               precision    recall  f1-score   support\n",
      "\n",
      "           0       0.74      0.53      0.62        38\n",
      "           1       0.86      0.94      0.90       114\n",
      "\n",
      "    accuracy                           0.84       152\n",
      "   macro avg       0.80      0.73      0.76       152\n",
      "weighted avg       0.83      0.84      0.83       152\n",
      "\n"
     ]
    }
   ],
   "source": [
    "from sklearn.ensemble import RandomForestClassifier as RF\n",
    "\n",
    "classifier = RF(n_estimators=10, criterion='entropy', random_state=0)\n",
    "classifier.fit(X_train,y_train)\n",
    "y_pred = classifier.predict(X_test)\n",
    "\n",
    "print(\"Random Forest Classifier :\")\n",
    "\n",
    "print(\"Comparison between real and before PCA\")\n",
    "print('Accuracy Score:', accuracy_score(y_test, y_pred))\n",
    "print('Confusion matrix \\n',  confusion_matrix(y_test, y_pred))\n",
    "print('Classification \\n', classification_report(y_test, y_pred))"
   ]
  },
  {
   "cell_type": "code",
   "execution_count": 43,
   "id": "8093d345-42b7-4bed-b214-873af77650ea",
   "metadata": {},
   "outputs": [
    {
     "name": "stdout",
     "output_type": "stream",
     "text": [
      "Comparison between real and after PCA\n",
      "Accuracy Score: 0.8157894736842105\n",
      "Confusion matrix \n",
      " [[ 23  15]\n",
      " [ 13 101]]\n",
      "Classification \n",
      "               precision    recall  f1-score   support\n",
      "\n",
      "           0       0.64      0.61      0.62        38\n",
      "           1       0.87      0.89      0.88       114\n",
      "\n",
      "    accuracy                           0.82       152\n",
      "   macro avg       0.75      0.75      0.75       152\n",
      "weighted avg       0.81      0.82      0.81       152\n",
      "\n"
     ]
    }
   ],
   "source": [
    "from sklearn.ensemble import RandomForestClassifier as RF\n",
    "\n",
    "classifier = RF(n_estimators=10, criterion='entropy', random_state=0)\n",
    "classifier.fit(X_train2,y_train)\n",
    "y_pred2 = classifier.predict(X_test2)\n",
    "\n",
    "print(\"Comparison between real and after PCA\")\n",
    "print('Accuracy Score:', accuracy_score(y_test, y_pred2))\n",
    "print('Confusion matrix \\n',  confusion_matrix(y_test, y_pred2))\n",
    "print('Classification \\n', classification_report(y_test, y_pred2))"
   ]
  },
  {
   "cell_type": "code",
   "execution_count": 44,
   "id": "17a0aa13-4370-4db9-bf29-13a98577cd39",
   "metadata": {},
   "outputs": [
    {
     "name": "stdout",
     "output_type": "stream",
     "text": [
      "Gaussian Naive Bayes :\n",
      "Comparison between real and before PCA\n",
      "Accuracy Score: 0.7894736842105263\n",
      "Confusion matrix \n",
      " [[24 14]\n",
      " [18 96]]\n",
      "Classification \n",
      "               precision    recall  f1-score   support\n",
      "\n",
      "           0       0.57      0.63      0.60        38\n",
      "           1       0.87      0.84      0.86       114\n",
      "\n",
      "    accuracy                           0.79       152\n",
      "   macro avg       0.72      0.74      0.73       152\n",
      "weighted avg       0.80      0.79      0.79       152\n",
      "\n"
     ]
    }
   ],
   "source": [
    "#Gaussian Naive Bayes\n",
    "from sklearn.naive_bayes import GaussianNB\n",
    "classifier = GaussianNB()\n",
    "classifier.fit(X_train,y_train)\n",
    "y_pred = classifier.predict(X_test)\n",
    "\n",
    "print(\"Gaussian Naive Bayes :\")\n",
    "\n",
    "print(\"Comparison between real and before PCA\")\n",
    "print('Accuracy Score:', accuracy_score(y_test, y_pred))\n",
    "print('Confusion matrix \\n',  confusion_matrix(y_test, y_pred))\n",
    "print('Classification \\n', classification_report(y_test, y_pred))"
   ]
  },
  {
   "cell_type": "code",
   "execution_count": 45,
   "id": "a730445e-aadb-4678-99fe-742465733d43",
   "metadata": {},
   "outputs": [
    {
     "name": "stdout",
     "output_type": "stream",
     "text": [
      "Comparison between real and after PCA\n",
      "Accuracy Score: 0.75\n",
      "Confusion matrix \n",
      " [[ 10  28]\n",
      " [ 10 104]]\n",
      "Classification \n",
      "               precision    recall  f1-score   support\n",
      "\n",
      "           0       0.50      0.26      0.34        38\n",
      "           1       0.79      0.91      0.85       114\n",
      "\n",
      "    accuracy                           0.75       152\n",
      "   macro avg       0.64      0.59      0.60       152\n",
      "weighted avg       0.72      0.75      0.72       152\n",
      "\n"
     ]
    }
   ],
   "source": [
    "from sklearn.naive_bayes import GaussianNB\n",
    "classifier = GaussianNB()\n",
    "classifier.fit(X_train2,y_train)\n",
    "y_pred2 = classifier.predict(X_test2)\n",
    "\n",
    "print(\"Comparison between real and after PCA\")\n",
    "print('Accuracy Score:', accuracy_score(y_test, y_pred2))\n",
    "print('Confusion matrix \\n',  confusion_matrix(y_test, y_pred2))\n",
    "print('Classification \\n', classification_report(y_test, y_pred2))\n"
   ]
  },
  {
   "cell_type": "code",
   "execution_count": null,
   "id": "aba1a00e-e8c4-4bfc-aeca-19d306a9e9bc",
   "metadata": {},
   "outputs": [],
   "source": []
  },
  {
   "cell_type": "code",
   "execution_count": null,
   "id": "f0ee03dd-af6c-4a19-a1f2-045c1a445f68",
   "metadata": {},
   "outputs": [],
   "source": []
  }
 ],
 "metadata": {
  "kernelspec": {
   "display_name": "Python 3",
   "language": "python",
   "name": "python3"
  },
  "language_info": {
   "codemirror_mode": {
    "name": "ipython",
    "version": 3
   },
   "file_extension": ".py",
   "mimetype": "text/x-python",
   "name": "python",
   "nbconvert_exporter": "python",
   "pygments_lexer": "ipython3",
   "version": "3.8.8"
  }
 },
 "nbformat": 4,
 "nbformat_minor": 5
}
